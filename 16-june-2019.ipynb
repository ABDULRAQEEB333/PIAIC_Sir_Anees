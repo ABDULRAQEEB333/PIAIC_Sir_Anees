{
 "cells": [
  {
   "cell_type": "code",
   "execution_count": 4,
   "metadata": {},
   "outputs": [
    {
     "name": "stdout",
     "output_type": "stream",
     "text": [
      "4803 Wellesley St.\n",
      "Iceland\n"
     ]
    }
   ],
   "source": [
    "#dictionary\n",
    "student = {\"first name\": \"David\", \"lastname\": \"Elliott\", \n",
    "                  \"address\": \"4803 Wellesley St.\"}    \n",
    "address_of_customer = customer_29876[\"address\"]\n",
    "print(address_of_customer)\n",
    "rankings = {5: \"Finland\", 2: \"Norway\", 3: \"Sweden\",\"7\": \"Iceland\"}\n",
    "print(rankings['7'])"
   ]
  },
  {
   "cell_type": "code",
   "execution_count": 14,
   "metadata": {},
   "outputs": [
    {
     "name": "stdout",
     "output_type": "stream",
     "text": [
      "{0: 'the lowest number', 'a dozen': 12, 13: \"a baker's dozen\", 20: 2000, 'newTask': ' chapter 50 study'}\n"
     ]
    }
   ],
   "source": [
    "things_to_remember = {\n",
    "    0: \"the lowest number\",\n",
    "    \"a dozen\": 12,\n",
    "    \"snake eyes\": \"a pair of ones\",\n",
    "    13: \"a baker's dozen\",\n",
    "    20: 2000, \n",
    "}\n",
    "#print(things_to_remember)\n",
    "x = [\"abc\",]\n",
    "#adding new values with a new key\n",
    "things_to_remember[\"newTask\"] = \" watch ai videos\"\n",
    "things_to_remember[\"newTask\"] = \" chapter 50 study\"\n",
    "del things_to_remember[\"snake eyes\"]\n",
    "print(things_to_remember)\n"
   ]
  },
  {
   "cell_type": "code",
   "execution_count": 22,
   "metadata": {},
   "outputs": [
    {
     "name": "stdout",
     "output_type": "stream",
     "text": [
      "David\n",
      "Elliott\n",
      "4803 Wellesley St.\n",
      "------------\n",
      "key first name value David\n",
      "key lastname value Elliott\n",
      "key address value 4803 Wellesley St.\n",
      "------------\n",
      "key first name\n",
      "key lastname\n",
      "key address\n"
     ]
    }
   ],
   "source": [
    "student = {\"first name\": \"David\", \"lastname\": \"Elliott\", \n",
    "                  \"address\": \"4803 Wellesley St.\"}  \n",
    "# page 102\n",
    "for each_value in student.values():\n",
    "    print(each_value)\n",
    "print(\"------------\")\n",
    "for k, v in  student.items():\n",
    "    print(\"key\", k, \"value\", v)\n",
    "print(\"------------\")\n",
    "for k in student.keys():\n",
    "    print(\"key\", k)\n"
   ]
  },
  {
   "cell_type": "code",
   "execution_count": 33,
   "metadata": {},
   "outputs": [
    {
     "name": "stdout",
     "output_type": "stream",
     "text": [
      "[{'first name': 'David', 'last name': 'Elliott', 'address': '4803 Wellesley St.'}, {'first name': 'Christopher', 'last name': 'farson', 'address': '48 tangtum St.'}]\n",
      "-------------------\n",
      "[{'first name': 'Christopher', 'last name': 'farson', 'address': '48 tangtum St.'}, {'first name': 'David', 'last name': 'Elliott', 'address': '4803 Wellesley St.'}]\n"
     ]
    }
   ],
   "source": [
    "customer_29876 = { \"first name\": \"David\", \"last name\": \"Elliott\",\n",
    "                  \"address\": \"4803 Wellesley St.\"}\n",
    "customer_29877= { \"first name\": \"Christopher\", \"last name\": \"farson\",\n",
    "                  \"address\": \"48 tangtum St.\"}\n",
    "#indirect lengthy\n",
    "customers=[]\n",
    "customers.append(customer_29876)\n",
    "customers.append(customer_29877)\n",
    "print(customers)\n",
    "# another method\n",
    "print(\"-------------------\")\n",
    "customers = [customer_29877, customer_29876 ]\n",
    "print(customers)"
   ]
  },
  {
   "cell_type": "code",
   "execution_count": 45,
   "metadata": {},
   "outputs": [
    {
     "name": "stdout",
     "output_type": "stream",
     "text": [
      "3 Main St. Somers\n",
      "3 Main St. Somers\n",
      "3\n",
      "4\n"
     ]
    }
   ],
   "source": [
    "#page 106/107 direct dictionary in the list topic 34\n",
    "customers = [\n",
    "    {\n",
    "        \"customer id\": 0,\n",
    "        \"first name\":\"John\",\n",
    "        \"last name\": \"Ogden\",\n",
    "        \"address\": \"301 Arbor Rd.\",\n",
    "    },\n",
    "    {\n",
    "        \"customer id\": 1,\n",
    "        \"first name\":\"Ann\",\n",
    "        \"last name\": \"Sattermyer\",\n",
    "        \"address\": \"PO Box 1145\",\n",
    "    },\n",
    "    {\n",
    "        \"customer id\": 2,\n",
    "        \"first name\":\"Jill\",\n",
    "        \"last name\": \"Somers\",\n",
    "        \"address\": \"3 Main St.\",\n",
    "    },\n",
    "]\n",
    "\n",
    "\n",
    "\n",
    "#print(customers)\n",
    "print(customers[2][\"address\"], customers[2][\"last name\"])\n",
    "dct = customers[2]\n",
    "print(dct[\"address\"], dct[\"last name\"])\n",
    "new_dictionary = {\n",
    "\"customer id\": \"new_customer_id\",\n",
    "\"first name\": \"new_first_name\",\n",
    "\"last name\": \"new_last_name\",\n",
    "\"address\": \"new_address\",\n",
    "}\n",
    "print(len(customers))\n",
    "customers.append(new_dictionary)\n",
    "print(len(customers))\n",
    "\n",
    "\n",
    "\n"
   ]
  },
  {
   "cell_type": "code",
   "execution_count": 100,
   "metadata": {},
   "outputs": [
    {
     "name": "stdout",
     "output_type": "stream",
     "text": [
      "20\n",
      "11 18\n"
     ]
    }
   ],
   "source": [
    "def add_numbers(n1, n2):\n",
    "    # n1 and n2 are parameters\n",
    "    first_number = n1\n",
    "    second_number = n2\n",
    "    total = first_number + second_number\n",
    "    #print(total)    \n",
    "    return total\n",
    "# wrong print(add_numbers() )\n",
    "#function with parameters\n",
    "add_numbers(5,6)\n",
    "x = add_numbers(5,6)\n",
    "y = add_numbers(8,10)\n",
    "print(add_numbers(5,15))\n",
    "print(x, y)"
   ]
  },
  {
   "cell_type": "code",
   "execution_count": null,
   "metadata": {},
   "outputs": [],
   "source": []
  },
  {
   "cell_type": "code",
   "execution_count": null,
   "metadata": {},
   "outputs": [],
   "source": []
  },
  {
   "cell_type": "code",
   "execution_count": 92,
   "metadata": {},
   "outputs": [
    {
     "name": "stdout",
     "output_type": "stream",
     "text": [
      "4.0548\n",
      "16.0\n",
      "8.0\n",
      "8.1096\n",
      "5.0685\n",
      "5.0685\n",
      "7.29864\n",
      "4.0548\n",
      "5.0685\n",
      "175.89000000000001\n",
      "5.0685\n"
     ]
    }
   ],
   "source": [
    "def calc_tax_old(sales_total, tax_rate):\n",
    "    print(sales_total * tax_rate)\n",
    "# in above function parameters are must\n",
    "#---------------\n",
    "\n",
    "#def calc_tax(sales_total, tax_rate=.04):\n",
    "#    print(sales_total * tax_rate)\n",
    "\n",
    "# function with default values alreaed\n",
    "def calc_tax(sales_total=101.37, tax_rate=.04):\n",
    "    print(sales_total * tax_rate)\n",
    "\n",
    "def calc_tax2(sales_total=101.37, tax_rate=.04):\n",
    "    return  sales_total * tax_rate \n",
    "    \n",
    "# postional parameter passing    \n",
    "calc_tax()\n",
    "calc_tax(200, .08)\n",
    "calc_tax(200)\n",
    "calc_tax(101.37, .08)\n",
    "\n",
    "# named parametrer passing\n",
    "calc_tax(sales_total=101.37, tax_rate=.05)\n",
    "calc_tax(tax_rate=.05 , sales_total=101.37)\n",
    "rate = .072\n",
    "calc_tax(sales_total=101.37, tax_rate=rate)\n",
    "\n",
    "calc_tax(sales_total=101.37)\n",
    "calc_tax(tax_rate=.05)\n",
    "x = calc_tax2(05.33, 33)\n",
    "print(x)\n",
    "y = 3\n",
    "print(y)\n",
    "# special variables a function call is stored in a variable\n",
    "sales_tax = calc_tax2(sales_total=101.37,tax_rate=.05)\n",
    "print(sales_tax)"
   ]
  },
  {
   "cell_type": "code",
   "execution_count": 102,
   "metadata": {},
   "outputs": [
    {
     "name": "stdout",
     "output_type": "stream",
     "text": [
      "Somers\n"
     ]
    },
    {
     "ename": "KeyError",
     "evalue": "'name'",
     "output_type": "error",
     "traceback": [
      "\u001b[1;31m---------------------------------------------------------------------------\u001b[0m",
      "\u001b[1;31mKeyError\u001b[0m                                  Traceback (most recent call last)",
      "\u001b[1;32m<ipython-input-102-b0dc63353201>\u001b[0m in \u001b[0;36m<module>\u001b[1;34m\u001b[0m\n\u001b[0;32m     23\u001b[0m \u001b[0mfind_something\u001b[0m\u001b[1;33m(\u001b[0m\u001b[0mcustomers\u001b[0m\u001b[1;33m,\u001b[0m \u001b[1;36m2\u001b[0m\u001b[1;33m,\u001b[0m \u001b[1;34m\"last name\"\u001b[0m\u001b[1;33m)\u001b[0m\u001b[1;33m\u001b[0m\u001b[1;33m\u001b[0m\u001b[0m\n\u001b[0;32m     24\u001b[0m \u001b[1;31m# error due to key not found\u001b[0m\u001b[1;33m\u001b[0m\u001b[1;33m\u001b[0m\u001b[1;33m\u001b[0m\u001b[0m\n\u001b[1;32m---> 25\u001b[1;33m \u001b[0mfind_something\u001b[0m\u001b[1;33m(\u001b[0m\u001b[0mcustomers\u001b[0m\u001b[1;33m,\u001b[0m \u001b[1;36m2\u001b[0m\u001b[1;33m,\u001b[0m \u001b[1;34m\"name\"\u001b[0m\u001b[1;33m)\u001b[0m\u001b[1;33m\u001b[0m\u001b[1;33m\u001b[0m\u001b[0m\n\u001b[0m\u001b[0;32m     26\u001b[0m \u001b[1;33m\u001b[0m\u001b[0m\n",
      "\u001b[1;32m<ipython-input-102-b0dc63353201>\u001b[0m in \u001b[0;36mfind_something\u001b[1;34m(dct, inner_dict, target)\u001b[0m\n\u001b[0;32m      1\u001b[0m \u001b[1;32mdef\u001b[0m \u001b[0mfind_something\u001b[0m\u001b[1;33m(\u001b[0m\u001b[0mdct\u001b[0m\u001b[1;33m,\u001b[0m \u001b[0minner_dict\u001b[0m\u001b[1;33m,\u001b[0m \u001b[0mtarget\u001b[0m\u001b[1;33m)\u001b[0m\u001b[1;33m:\u001b[0m\u001b[1;33m\u001b[0m\u001b[1;33m\u001b[0m\u001b[0m\n\u001b[0;32m      2\u001b[0m     \u001b[1;31m# dictionary, key of main dictionary, key of inner dictionary\u001b[0m\u001b[1;33m\u001b[0m\u001b[1;33m\u001b[0m\u001b[1;33m\u001b[0m\u001b[0m\n\u001b[1;32m----> 3\u001b[1;33m     \u001b[0mprint\u001b[0m\u001b[1;33m(\u001b[0m\u001b[0mdct\u001b[0m\u001b[1;33m[\u001b[0m\u001b[0minner_dict\u001b[0m\u001b[1;33m]\u001b[0m\u001b[1;33m[\u001b[0m\u001b[0mtarget\u001b[0m\u001b[1;33m]\u001b[0m\u001b[1;33m)\u001b[0m\u001b[1;33m\u001b[0m\u001b[1;33m\u001b[0m\u001b[0m\n\u001b[0m\u001b[0;32m      4\u001b[0m \u001b[1;33m\u001b[0m\u001b[0m\n\u001b[0;32m      5\u001b[0m customers = {\n",
      "\u001b[1;31mKeyError\u001b[0m: 'name'"
     ]
    }
   ],
   "source": [
    "def find_something(dct, inner_dict, target):\n",
    "    # dictionary, key of main dictionary, key of inner dictionary\n",
    "    print(dct[inner_dict][target])\n",
    "\n",
    "customers = {\n",
    "    0: {\n",
    "    \"first name\":\"John\",\n",
    "    \"last name\": \"Ogden\",\n",
    "    \"address\": \"301 Arbor Rd.\",\n",
    "    },\n",
    "    1: {\n",
    "    \"first name\":\"Ann\",\n",
    "    \"last name\": \"Sattermyer\",\n",
    "     \"address\": \"PO Box 1145\",\n",
    "     },\n",
    "     2: {\n",
    "     \"first name\":\"Jill\",\n",
    "     \"last name\": \"Somers\",\n",
    "     \"address\": \"3 Main St.\",\n",
    "     },\n",
    " }\n",
    "\n",
    "find_something(customers, 2, \"last name\")\n",
    "# error due to key not found\n",
    "#find_something(customers, 2, \"name\")\n",
    "\n"
   ]
  },
  {
   "cell_type": "code",
   "execution_count": 103,
   "metadata": {},
   "outputs": [
    {
     "ename": "SyntaxError",
     "evalue": "positional argument follows keyword argument (<ipython-input-103-48d1c2113c1c>, line 13)",
     "output_type": "error",
     "traceback": [
      "\u001b[1;36m  File \u001b[1;32m\"<ipython-input-103-48d1c2113c1c>\"\u001b[1;36m, line \u001b[1;32m13\u001b[0m\n\u001b[1;33m    display_result(winner=\"Real Madrid\", score=\"1-0\",\"yes\", \"marcelo\",\"ramos\")\u001b[0m\n\u001b[1;37m                                                    ^\u001b[0m\n\u001b[1;31mSyntaxError\u001b[0m\u001b[1;31m:\u001b[0m positional argument follows keyword argument\n"
     ]
    }
   ],
   "source": [
    "def display_result(winner, score, **other_info):\n",
    "    print(\"The winner was \" + winner)\n",
    "    print(\"The score was \" + score)\n",
    "    \n",
    "    for key, value in other_info.items():\n",
    "        print(key + \": \" + value)\n",
    "   \n",
    "    print(\"--------------\")    \n",
    "display_result(winner=\"Real Madrid\", score=\"1-0\",\n",
    "               overtime =\"yes\", injuries=\"none\")\n",
    "\n",
    "display_result(winner=\"Real Madrid\", score=\"1-0\")\n",
    "\n",
    "display_result(winner=\"Real Madrid\", score=\"1-0\",\"yes\", \"marcelo\",\"ramos\")\n",
    "\n",
    "print(\"a\", \"b\", 'c')"
   ]
  },
  {
   "cell_type": "code",
   "execution_count": 85,
   "metadata": {},
   "outputs": [
    {
     "name": "stdout",
     "output_type": "stream",
     "text": [
      "first num 1\n",
      "second num 2\n",
      "opt nums ()\n",
      "--------------\n",
      "first num 1\n",
      "second num 2\n",
      "num = 3\n",
      "num = 4\n",
      "num = 5\n",
      "num = 6\n",
      "opt nums (3, 4, 5, 6)\n",
      "--------------\n"
     ]
    }
   ],
   "source": [
    "def display_nums(first_num, second_num, *opt_nums):\n",
    "    print(\"first num\", first_num)\n",
    "    print(\"second num\", second_num)\n",
    "    for n in opt_nums:\n",
    "        print('num =', n)\n",
    "    \n",
    "    print(\"opt nums\", opt_nums)\n",
    "    print(\"--------------\")\n",
    "display_nums(1,2)\n",
    "display_nums(1,2, 3, 4, 5, 6)\n",
    "\n"
   ]
  },
  {
   "cell_type": "code",
   "execution_count": 109,
   "metadata": {},
   "outputs": [
    {
     "name": "stdout",
     "output_type": "stream",
     "text": [
      "2\n"
     ]
    },
    {
     "ename": "NameError",
     "evalue": "name 'b' is not defined",
     "output_type": "error",
     "traceback": [
      "\u001b[1;31m---------------------------------------------------------------------------\u001b[0m",
      "\u001b[1;31mNameError\u001b[0m                                 Traceback (most recent call last)",
      "\u001b[1;32m<ipython-input-109-ea78c1669632>\u001b[0m in \u001b[0;36m<module>\u001b[1;34m\u001b[0m\n\u001b[0;32m      7\u001b[0m \u001b[0ma\u001b[0m \u001b[1;33m=\u001b[0m \u001b[1;36m2\u001b[0m\u001b[1;33m\u001b[0m\u001b[1;33m\u001b[0m\u001b[0m\n\u001b[0;32m      8\u001b[0m \u001b[0mdisplay_number\u001b[0m\u001b[1;33m(\u001b[0m\u001b[1;33m)\u001b[0m\u001b[1;33m\u001b[0m\u001b[1;33m\u001b[0m\u001b[0m\n\u001b[1;32m----> 9\u001b[1;33m \u001b[0mprint\u001b[0m\u001b[1;33m(\u001b[0m\u001b[0mb\u001b[0m\u001b[1;33m)\u001b[0m\u001b[1;33m\u001b[0m\u001b[1;33m\u001b[0m\u001b[0m\n\u001b[0m",
      "\u001b[1;31mNameError\u001b[0m: name 'b' is not defined"
     ]
    }
   ],
   "source": [
    "def display_number():\n",
    "    #a = 20\n",
    "    b= 10\n",
    "    print(a)\n",
    "    \n",
    "\n",
    "a = 2\n",
    "display_number()\n",
    "print(b)"
   ]
  },
  {
   "cell_type": "code",
   "execution_count": null,
   "metadata": {},
   "outputs": [],
   "source": [
    "cleanest_cities = [\"Cheyenne\", \"karachi\", \"Santa Fe\", \"Tucson\", \n",
    "                   \"Great Falls\", \"Honolulu\"]\n",
    "user_input = \"\"\n",
    "\n",
    "while user_input != \"q\":\n",
    "    user_input = input(\"Enter a city, or q to quit:\")    \n",
    "    #if user_input != \"q\":\n",
    "    if user_input in cleanest_cities:\n",
    "        print(\"It's one of the cleanest cities\")\n",
    "        #break\n",
    "                "
   ]
  },
  {
   "cell_type": "code",
   "execution_count": 19,
   "metadata": {},
   "outputs": [
    {
     "name": "stdout",
     "output_type": "stream",
     "text": [
      "This patient is a minor\n",
      "age is not valid for our patient\n",
      "Anand 30\n",
      "sharaf 0\n",
      "kzne 0\n"
     ]
    }
   ],
   "source": [
    "class Patient():\n",
    "    \n",
    "    def __init__(self, first_name, last_name):\n",
    "        self.first_name = first_name\n",
    "        self.last_name = last_name\n",
    "        self.age =0\n",
    "        \n",
    "    def setAge(self, age):\n",
    "        if (age > 12 and age <70):\n",
    "            self.age = age\n",
    "        else:\n",
    "            print(\"age is not valid for our patient\")\n",
    "    def say_if_minor(self):\n",
    "        if self.age < 21:\n",
    "            print(\"This patient is a minor\")    \n",
    "        \n",
    "pid4344 = Patient(\"kazam\", \"Anand\")\n",
    "pid4345 = Patient(\"Oppenheimer\", \"sharaf\")\n",
    "pid4345.say_if_minor()\n",
    "\n",
    "pid4346 = Patient(\"Lin\", \"kzne\")\n",
    "pid12902 = Patient(\"Nilsson\", \"omor\")\n",
    "\n",
    "pid4344.age = 30\n",
    "pid4344.setAge(80)\n",
    "print(pid4344.last_name, pid4344.age)\n",
    "print(pid4345.last_name, pid4345.age)\n",
    "print(pid4346.last_name, pid4346.age)"
   ]
  }
 ],
 "metadata": {
  "kernelspec": {
   "display_name": "Python 3",
   "language": "python",
   "name": "python3"
  },
  "language_info": {
   "codemirror_mode": {
    "name": "ipython",
    "version": 3
   },
   "file_extension": ".py",
   "mimetype": "text/x-python",
   "name": "python",
   "nbconvert_exporter": "python",
   "pygments_lexer": "ipython3",
   "version": "3.7.3"
  }
 },
 "nbformat": 4,
 "nbformat_minor": 2
}
