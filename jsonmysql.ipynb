{
 "cells": [
  {
   "cell_type": "code",
   "execution_count": 2,
   "metadata": {},
   "outputs": [],
   "source": [
    "import json \n",
    "std_dict = [\n",
    "     {\n",
    "     \"Name\":\"Mahnoor\" ,\n",
    "     \"Class\" : \"9th\" ,\n",
    "     \"Section\" : \"A\"\n",
    "        },\n",
    "     {\n",
    "        \"Name\" : \"Usman\" ,\n",
    "        \"Class\" : \"2\" ,\n",
    "        \"Section\" : \"B\"\n",
    "    }\n",
    "]"
   ]
  },
  {
   "cell_type": "code",
   "execution_count": 3,
   "metadata": {},
   "outputs": [
    {
     "data": {
      "text/plain": [
       "[{'Name': 'Mahnoor', 'Class': '9th', 'Section': 'A'},\n",
       " {'Name': 'Usman', 'Class': '2', 'Section': 'B'}]"
      ]
     },
     "execution_count": 3,
     "metadata": {},
     "output_type": "execute_result"
    }
   ],
   "source": [
    "std_dict"
   ]
  },
  {
   "cell_type": "code",
   "execution_count": 4,
   "metadata": {},
   "outputs": [],
   "source": [
    "with open (\"std.json\" , \"w\") as f:\n",
    "    json_dict = json.dump(std_dict , f)"
   ]
  },
  {
   "cell_type": "code",
   "execution_count": 7,
   "metadata": {},
   "outputs": [],
   "source": [
    "import mysql.connector\n",
    "connection = mysql.connector.connect(host = \"localhost\", \n",
    "                                     database = \"json_db\" , \n",
    "                                     user = \"root\" , \n",
    "                                     password = \"mysql123\" ) \n",
    "cur = connection.cursor() "
   ]
  },
  {
   "cell_type": "code",
   "execution_count": 9,
   "metadata": {},
   "outputs": [],
   "source": [
    "with open (\"std.json\" , \"r\") as f:\n",
    "    read_json_dict = json.load(f)"
   ]
  },
  {
   "cell_type": "code",
   "execution_count": 10,
   "metadata": {},
   "outputs": [
    {
     "data": {
      "text/plain": [
       "[{'Name': 'Mahnoor', 'Class': '9th', 'Section': 'A'},\n",
       " {'Name': 'Usman', 'Class': '2', 'Section': 'B'}]"
      ]
     },
     "execution_count": 10,
     "metadata": {},
     "output_type": "execute_result"
    }
   ],
   "source": [
    "read_json_dict"
   ]
  },
  {
   "cell_type": "code",
   "execution_count": 39,
   "metadata": {},
   "outputs": [],
   "source": [
    "table = \"\"\" create table student_info\n",
    "            (\n",
    "            StId int Not null auto_increment Primary key ,\n",
    "            Name varchar(20) ,\n",
    "            Class varchar(20) ,\n",
    "            Section varchar(20) \n",
    "            )  \n",
    "    \"\"\"\n",
    "    \n",
    "    \n",
    "cur.execute(table)"
   ]
  },
  {
   "cell_type": "code",
   "execution_count": 40,
   "metadata": {},
   "outputs": [
    {
     "name": "stdout",
     "output_type": "stream",
     "text": [
      "[('Mahnoor', '9th', 'A'), ('Usman', '2', 'B')]\n"
     ]
    }
   ],
   "source": [
    "l = []\n",
    "for each_rec in read_json_dict:\n",
    "    name = each_rec.get(\"Name\" , None)\n",
    "    Class = each_rec.get(\"Class\" , None)\n",
    "    Section = each_rec.get(\"Section\" , None)\n",
    "    l.append((name,Class,Section))\n",
    "print(l)\n",
    "    "
   ]
  },
  {
   "cell_type": "code",
   "execution_count": 41,
   "metadata": {},
   "outputs": [],
   "source": [
    "insert_db = \"Insert into student_info (Name ,Class,Section) values (%s,%s,%s)\"\n",
    "cur.executemany(insert_db,l)\n",
    "connection.commit()"
   ]
  },
  {
   "cell_type": "code",
   "execution_count": 42,
   "metadata": {},
   "outputs": [
    {
     "data": {
      "text/plain": [
       "[(1, 'Mahnoor', '9th', 'A'), (2, 'Usman', '2', 'B')]"
      ]
     },
     "execution_count": 42,
     "metadata": {},
     "output_type": "execute_result"
    }
   ],
   "source": [
    "cur.execute(\"select * from student_info\")\n",
    "record = cur.fetchall()\n",
    "record"
   ]
  },
  {
   "cell_type": "code",
   "execution_count": null,
   "metadata": {},
   "outputs": [],
   "source": []
  }
 ],
 "metadata": {
  "kernelspec": {
   "display_name": "Python 3",
   "language": "python",
   "name": "python3"
  },
  "language_info": {
   "codemirror_mode": {
    "name": "ipython",
    "version": 3
   },
   "file_extension": ".py",
   "mimetype": "text/x-python",
   "name": "python",
   "nbconvert_exporter": "python",
   "pygments_lexer": "ipython3",
   "version": "3.7.1"
  }
 },
 "nbformat": 4,
 "nbformat_minor": 2
}
