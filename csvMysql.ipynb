{
 "cells": [
  {
   "cell_type": "code",
   "execution_count": 6,
   "metadata": {},
   "outputs": [],
   "source": [
    "import csv\n",
    "\n",
    "with open(\"std.csv\" , \"w\" , newline=\"\" ) as f:\n",
    "    data_handler = csv.writer(f , delimiter =\",\")\n",
    "    data_handler.writerow([\"Name\" , \"Class\" , \"Section\"])\n",
    "    data_handler.writerow([\"Ahmed\" , \"4th\" , \"C\"])\n",
    "    data_handler.writerow([\"Sarah\" , \"10th\" , \"B\"])\n",
    "    data_handler.writerow([\"Azhan\" , \"6th\" , \"A\"])"
   ]
  },
  {
   "cell_type": "code",
   "execution_count": 7,
   "metadata": {},
   "outputs": [
    {
     "name": "stdout",
     "output_type": "stream",
     "text": [
      "[('Name', 'Class', 'Section'), ('Ahmed', '4th', 'C'), ('Sarah', '10th', 'B'), ('Azhan', '6th', 'A')]\n"
     ]
    }
   ],
   "source": [
    "l=[]\n",
    "with open(\"std.csv\" , \"r\") as f:\n",
    "    data_handler = csv.reader(f)\n",
    "    for row in data_handler: \n",
    "            l.append(tuple(row))\n",
    "       # print(row)\n",
    "print(l)"
   ]
  },
  {
   "cell_type": "code",
   "execution_count": 3,
   "metadata": {},
   "outputs": [],
   "source": [
    "import mysql.connector\n",
    "connection = mysql.connector.connect(host = \"localhost\", \n",
    "                                     database = \"python_db\" , \n",
    "                                     user = \"root\" , \n",
    "                                     password = \"password\" ) \n",
    "cur = connection.cursor() "
   ]
  },
  {
   "cell_type": "code",
   "execution_count": 4,
   "metadata": {},
   "outputs": [],
   "source": [
    "table = \"\"\" create table student_info\n",
    "            (\n",
    "            StId int Not null auto_increment Primary key ,\n",
    "            Name varchar(20) ,\n",
    "            Class varchar(20) ,\n",
    "            Section varchar(20) \n",
    "            )  \n",
    "            \n",
    "    \"\"\"\n",
    "    \n",
    "    \n",
    "cur.execute(table)"
   ]
  },
  {
   "cell_type": "code",
   "execution_count": 8,
   "metadata": {},
   "outputs": [],
   "source": [
    "insert_db = \"Insert into student_info (Name ,Class,Section) values (%s,%s,%s)\"\n",
    "cur.executemany(insert_db,l)\n",
    "connection.commit()"
   ]
  },
  {
   "cell_type": "code",
   "execution_count": 35,
   "metadata": {},
   "outputs": [
    {
     "data": {
      "text/plain": [
       "[(1, 'Name', 'Class', 'Section'),\n",
       " (2, 'Ahmed', '4th', 'C'),\n",
       " (3, 'Sarah', '10th', 'B'),\n",
       " (4, 'Azhan', '6th', 'A')]"
      ]
     },
     "execution_count": 35,
     "metadata": {},
     "output_type": "execute_result"
    }
   ],
   "source": [
    "cur.execute(\"select * from student_info\")\n",
    "record = cur.fetchall()\n",
    "record"
   ]
  },
  {
   "cell_type": "code",
   "execution_count": null,
   "metadata": {},
   "outputs": [],
   "source": [
    "if(connection.is_connected()):\n",
    "        cur.close()\n",
    "        connection.close()\n",
    "        print(\"connection is closed\")"
   ]
  }
 ],
 "metadata": {
  "kernelspec": {
   "display_name": "Python 3",
   "language": "python",
   "name": "python3"
  },
  "language_info": {
   "codemirror_mode": {
    "name": "ipython",
    "version": 3
   },
   "file_extension": ".py",
   "mimetype": "text/x-python",
   "name": "python",
   "nbconvert_exporter": "python",
   "pygments_lexer": "ipython3",
   "version": "3.6.5"
  }
 },
 "nbformat": 4,
 "nbformat_minor": 2
}

