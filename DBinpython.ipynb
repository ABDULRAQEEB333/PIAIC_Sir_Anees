{
 "cells": [
  {
   "cell_type": "code",
   "execution_count": 1,
   "metadata": {},
   "outputs": [],
   "source": [
    "import mysql.connector"
   ]
  },
  {
   "cell_type": "code",
   "execution_count": 2,
   "metadata": {},
   "outputs": [],
   "source": [
    "connection = mysql.connector.connect(host=\"localhost\" , \n",
    "                                     database='students',\n",
    "                                     user='root',\n",
    "                                     password='mysql123')"
   ]
  },
  {
   "cell_type": "code",
   "execution_count": 3,
   "metadata": {},
   "outputs": [],
   "source": [
    "cur = connection.cursor(buffered = True)"
   ]
  },
  {
   "cell_type": "code",
   "execution_count": 4,
   "metadata": {},
   "outputs": [
    {
     "data": {
      "text/plain": [
       "[(1, 'Subhan', 'BSC', 2),\n",
       " (2, 'Hira', 'MSCS', 3),\n",
       " (3, 'Hasan', 'BS(hon)', 5),\n",
       " (4, 'Sehrish', 'BBA', 8),\n",
       " (5, 'Charlie', 'MBA', 6)]"
      ]
     },
     "execution_count": 4,
     "metadata": {},
     "output_type": "execute_result"
    }
   ],
   "source": [
    "cur.execute(\"select * from info\")\n",
    "record = cur.fetchall()\n",
    "record"
   ]
  },
  {
   "cell_type": "code",
   "execution_count": 5,
   "metadata": {},
   "outputs": [
    {
     "name": "stdout",
     "output_type": "stream",
     "text": [
      "STUDENT 1 RECORD !\n",
      "\n",
      "\t\tID :  1\n",
      "\t\tName :  Subhan\n",
      "\t\tProgram :  BSC\n",
      "\t\tSemester 2 \n",
      "\n",
      "STUDENT 2 RECORD !\n",
      "\n",
      "\t\tID :  2\n",
      "\t\tName :  Hira\n",
      "\t\tProgram :  MSCS\n",
      "\t\tSemester 3 \n",
      "\n",
      "STUDENT 3 RECORD !\n",
      "\n",
      "\t\tID :  3\n",
      "\t\tName :  Hasan\n",
      "\t\tProgram :  BS(hon)\n",
      "\t\tSemester 5 \n",
      "\n",
      "STUDENT 4 RECORD !\n",
      "\n",
      "\t\tID :  4\n",
      "\t\tName :  Sehrish\n",
      "\t\tProgram :  BBA\n",
      "\t\tSemester 8 \n",
      "\n",
      "STUDENT 5 RECORD !\n",
      "\n",
      "\t\tID :  5\n",
      "\t\tName :  Charlie\n",
      "\t\tProgram :  MBA\n",
      "\t\tSemester 6 \n",
      "\n"
     ]
    }
   ],
   "source": [
    "for each in record:\n",
    "    print(\"STUDENT\",each[0], \"RECORD !\\n\")\n",
    "    print(\"\\t\\tID : \" , each[0])\n",
    "    print(\"\\t\\tName : \" , each[1])\n",
    "    print(\"\\t\\tProgram : \" , each[2])\n",
    "    print(\"\\t\\tSemester\" , each[3],\"\\n\")"
   ]
  },
  {
   "cell_type": "code",
   "execution_count": 14,
   "metadata": {
    "scrolled": true
   },
   "outputs": [],
   "source": [
    "marks_table = \"\"\" create table std_contact \n",
    "                    (\n",
    "                    c_id     INT unsigned NOT NULL AUTO_INCREMENT ,\n",
    "                    cell_number   varchar(11) ,\n",
    "                    Email  varchar(20),\n",
    "                    LinkedIn varchar(15),\n",
    "                    PRIMARY KEY (c_id),\n",
    "                    id  INT unsigned NOT NULL,\n",
    "                    FOREIGN KEY (id) REFERENCES info(id)\n",
    "                    )      \n",
    "              \"\"\"\n",
    "cur.execute(marks_table)"
   ]
  },
  {
   "cell_type": "code",
   "execution_count": 15,
   "metadata": {},
   "outputs": [],
   "source": [
    "insert = \"insert into std_contact (cell_number , Email ,LinkedIn , id) values (%s,%s,%s,%s)\"\n",
    "values = [(\"03331265743\",\"subhan@gmail.com\", \"subhan275\" , 1), \n",
    "          (\"03263845571\", \"xyz@hotmail.com\" , \"hira12\" ,2),\n",
    "          (\"03223467891\" , \"hasan.12@yahoo.com\" , \"M.hasan\" , 3),\n",
    "          (\"03004856128\" , \"sehrish_A@gmail.com\" , \"Sehr900\" , 4) ,\n",
    "          (\"03215600334\" , \"Charlie@hotmail.com\" , \"Charlie\" , 5)]\n",
    "cur.executemany(insert,values)\n",
    "connection.commit()\n"
   ]
  },
  {
   "cell_type": "code",
   "execution_count": 18,
   "metadata": {},
   "outputs": [
    {
     "name": "stdout",
     "output_type": "stream",
     "text": [
      "connection is closed\n"
     ]
    }
   ],
   "source": [
    "if(connection.is_connected()):\n",
    "        cur.close()\n",
    "        connection.close()\n",
    "        print(\"connection is closed\")"
   ]
  },
  {
   "cell_type": "code",
   "execution_count": null,
   "metadata": {},
   "outputs": [],
   "source": []
  }
 ],
 "metadata": {
  "kernelspec": {
   "display_name": "Python 3",
   "language": "python",
   "name": "python3"
  },
  "language_info": {
   "codemirror_mode": {
    "name": "ipython",
    "version": 3
   },
   "file_extension": ".py",
   "mimetype": "text/x-python",
   "name": "python",
   "nbconvert_exporter": "python",
   "pygments_lexer": "ipython3",
   "version": "3.7.1"
  }
 },
 "nbformat": 4,
 "nbformat_minor": 2
}
